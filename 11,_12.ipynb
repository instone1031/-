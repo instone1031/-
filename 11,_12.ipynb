{
  "nbformat": 4,
  "nbformat_minor": 0,
  "metadata": {
    "colab": {
      "name": "11, 12.ipynb",
      "provenance": [],
      "authorship_tag": "ABX9TyMhoTSIZDYl4j5uYM26Redp",
      "include_colab_link": true
    },
    "kernelspec": {
      "name": "python3",
      "display_name": "Python 3"
    },
    "language_info": {
      "name": "python"
    }
  },
  "cells": [
    {
      "cell_type": "markdown",
      "metadata": {
        "id": "view-in-github",
        "colab_type": "text"
      },
      "source": [
        "<a href=\"https://colab.research.google.com/github/instone1031/code/blob/master/11%2C_12.ipynb\" target=\"_parent\"><img src=\"https://colab.research.google.com/assets/colab-badge.svg\" alt=\"Open In Colab\"/></a>"
      ]
    },
    {
      "cell_type": "markdown",
      "metadata": {
        "id": "3vR_IaqaRENx"
      },
      "source": [
        "# 11번"
      ]
    },
    {
      "cell_type": "code",
      "metadata": {
        "colab": {
          "base_uri": "https://localhost:8080/"
        },
        "id": "22ZT-lVTQ32c",
        "outputId": "6161ecd7-9e57-43cb-e24b-987824f1b827"
      },
      "source": [
        "s = 0\n",
        "\n",
        "for i in range(1, 101):\n",
        "  s += i\n",
        "\n",
        "\n",
        "print(s)"
      ],
      "execution_count": 3,
      "outputs": [
        {
          "output_type": "stream",
          "text": [
            "5050\n"
          ],
          "name": "stdout"
        }
      ]
    },
    {
      "cell_type": "code",
      "metadata": {
        "colab": {
          "base_uri": "https://localhost:8080/"
        },
        "id": "Rkw2SayPRVrF",
        "outputId": "4fba4544-4d8f-4c7c-c728-e68143c03cc4"
      },
      "source": [
        "'''\n",
        "100 99 98 97 96 ...\n",
        "1   2  3  4  5  ...\n",
        "101 101 101 101 101 ...\n",
        "'''\n",
        "#n*(n+1)/2\n",
        "100*(100+1)/2"
      ],
      "execution_count": 4,
      "outputs": [
        {
          "output_type": "execute_result",
          "data": {
            "text/plain": [
              "5050.0"
            ]
          },
          "metadata": {
            "tags": []
          },
          "execution_count": 4
        }
      ]
    },
    {
      "cell_type": "code",
      "metadata": {
        "colab": {
          "base_uri": "https://localhost:8080/"
        },
        "id": "m6sJojZ8R0C7",
        "outputId": "43fc33f5-180f-43fd-c333-794480765134"
      },
      "source": [
        "type(range(10))\n",
        "# range(start, stop, step)\n",
        "print(list(range(10)))\n",
        "print(list(range(5, 10)))\n",
        "print(list(range(1, 10, 2)))\n",
        "print(list(range(20, 10, -2)))\n",
        "print(list(range(-10, 10, 2)))\n",
        "print(list(range(1, 10, 2)))"
      ],
      "execution_count": 9,
      "outputs": [
        {
          "output_type": "stream",
          "text": [
            "[0, 1, 2, 3, 4, 5, 6, 7, 8, 9]\n",
            "[5, 6, 7, 8, 9]\n",
            "[1, 3, 5, 7, 9]\n",
            "[20, 18, 16, 14, 12]\n",
            "[-10, -8, -6, -4, -2, 0, 2, 4, 6, 8]\n",
            "[1, 3, 5, 7, 9]\n"
          ],
          "name": "stdout"
        }
      ]
    },
    {
      "cell_type": "markdown",
      "metadata": {
        "id": "GZDZEOQ2Saqf"
      },
      "source": [
        "# 12번"
      ]
    },
    {
      "cell_type": "code",
      "metadata": {
        "colab": {
          "base_uri": "https://localhost:8080/"
        },
        "id": "drp_bidxScqV",
        "outputId": "a08af9c7-2998-432f-e1ca-e8c8676d31a5"
      },
      "source": [
        "class Wizard:\n",
        "  def __init__(self, health, mana, armor):\n",
        "    self.health = health\n",
        "    self.mana = mana\n",
        "    self.armor = armor\n",
        "  def __str__(self):\n",
        "    return 'hello world'\n",
        "  def attack(self):\n",
        "    print('파이어볼') \n",
        "\n",
        "\n",
        "x = Wizard(health = 545, mana = 210, armor = 10)\n",
        "print(x.health, x.mana, x.armor)\n",
        "x.attack()"
      ],
      "execution_count": 18,
      "outputs": [
        {
          "output_type": "stream",
          "text": [
            "545 210 10\n",
            "파이어볼\n"
          ],
          "name": "stdout"
        }
      ]
    },
    {
      "cell_type": "code",
      "metadata": {
        "colab": {
          "base_uri": "https://localhost:8080/"
        },
        "id": "cZkearAWTkgu",
        "outputId": "70d7864f-bcad-4e85-fdf5-bc7a7051fb02"
      },
      "source": [
        "print(type(x))\n",
        "print(dir(x))\n",
        "print(x)"
      ],
      "execution_count": 19,
      "outputs": [
        {
          "output_type": "stream",
          "text": [
            "<class '__main__.Wizard'>\n",
            "['__class__', '__delattr__', '__dict__', '__dir__', '__doc__', '__eq__', '__format__', '__ge__', '__getattribute__', '__gt__', '__hash__', '__init__', '__init_subclass__', '__le__', '__lt__', '__module__', '__ne__', '__new__', '__reduce__', '__reduce_ex__', '__repr__', '__setattr__', '__sizeof__', '__str__', '__subclasshook__', '__weakref__', 'armor', 'attack', 'health', 'mana']\n",
            "hello world\n"
          ],
          "name": "stdout"
        }
      ]
    }
  ]
}