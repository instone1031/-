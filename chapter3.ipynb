{
  "nbformat": 4,
  "nbformat_minor": 0,
  "metadata": {
    "colab": {
      "name": "chapter3.ipynb",
      "provenance": [],
      "authorship_tag": "ABX9TyNWotjY6Nb+u62aSVEX7tfI",
      "include_colab_link": true
    },
    "kernelspec": {
      "name": "python3",
      "display_name": "Python 3"
    },
    "language_info": {
      "name": "python"
    }
  },
  "cells": [
    {
      "cell_type": "markdown",
      "metadata": {
        "id": "view-in-github",
        "colab_type": "text"
      },
      "source": [
        "<a href=\"https://colab.research.google.com/github/instone1031/code/blob/master/chapter3.ipynb\" target=\"_parent\"><img src=\"https://colab.research.google.com/assets/colab-badge.svg\" alt=\"Open In Colab\"/></a>"
      ]
    },
    {
      "cell_type": "markdown",
      "metadata": {
        "id": "sntgsbQ0Ai7G"
      },
      "source": [
        "# 1번\n",
        "\n"
      ]
    },
    {
      "cell_type": "code",
      "metadata": {
        "colab": {
          "base_uri": "https://localhost:8080/"
        },
        "id": "kKxXVfrLAgdH",
        "outputId": "1fffcd08-7cb7-4503-b6da-40802a3937cc"
      },
      "source": [
        "total = 100000\n",
        "americano_price = 2000\n",
        "cafelatte_price = 3000\n",
        "capucino_price = 3500\n",
        "\n",
        "americanos = int(input(\"아메리카노 판매 개수: \"))\n",
        "cafelattes = int(input(\"카페라떼 판매 개수\"))\n",
        "capucinos = int(input(\"카푸치노 판매 개수\"))\n",
        "\n",
        "sales = americanos * americano_price\n",
        "sales = sales + cafelattes * cafelatte_price\n",
        "sales = sales + capucinos * capucino_price\n",
        "print(\"총 매출은\", sales, \"입니다.\")\n",
        "\n",
        "if(total < sales):print(\"흑자입니다.\")\n",
        "else:print(\"적자입니다.\")"
      ],
      "execution_count": 3,
      "outputs": [
        {
          "output_type": "stream",
          "name": "stdout",
          "text": [
            "아메리카노 판매 개수: 1\n",
            "카페라떼 판매 개수1\n",
            "카푸치노 판매 개수1\n",
            "총 매출은 8500 입니다.\n",
            "적자입니다.\n"
          ]
        }
      ]
    },
    {
      "cell_type": "markdown",
      "metadata": {
        "id": "0crsPRpZCUPl"
      },
      "source": [
        "# 2번"
      ]
    },
    {
      "cell_type": "code",
      "metadata": {
        "colab": {
          "base_uri": "https://localhost:8080/"
        },
        "id": "RlpIHtnCCDM1",
        "outputId": "551be1c5-7220-446e-b89a-2a80fd704360"
      },
      "source": [
        "ctemp = int(input(\"섭씨온도: \"))\n",
        "ftemp = 9/5 * ctemp + 32\n",
        "print(\"화씨온도: \", ftemp)"
      ],
      "execution_count": 4,
      "outputs": [
        {
          "output_type": "stream",
          "name": "stdout",
          "text": [
            "섭씨온도: 36\n",
            "화씨온도:  96.8\n"
          ]
        }
      ]
    },
    {
      "cell_type": "markdown",
      "metadata": {
        "id": "_AGHu8WVC1IV"
      },
      "source": [
        "# 3번"
      ]
    },
    {
      "cell_type": "code",
      "metadata": {
        "colab": {
          "base_uri": "https://localhost:8080/"
        },
        "id": "lxXm_jaeC2hR",
        "outputId": "ba25981b-75c5-4eb1-956e-df279c3faa76"
      },
      "source": [
        "money = int(input(\"투입한 돈: \"))\n",
        "price = int(input(\"물건 값: \"))\n",
        "\n",
        "change = money - price\n",
        "print(\"거스름돈: \", change)\n",
        "coin500s = change // 500\n",
        "change = change % 500\n",
        "coin100s = change // 100\n",
        "change = change % 100\n",
        "coin50s = change // 50\n",
        "change = change % 50\n",
        "coin10s = change // 10\n",
        "change = change % 10\n",
        "print(\"500원 동전의 개수: \", coin500s)\n",
        "print(\"100원 동전의 개수: \", coin100s)\n",
        "print(\"50원 동전의 개수: \", coin50s)\n",
        "print(\"10원 동전의 개수: \", coin10s)"
      ],
      "execution_count": 5,
      "outputs": [
        {
          "output_type": "stream",
          "name": "stdout",
          "text": [
            "투입한 돈: 10000\n",
            "물건 값: 1500\n",
            "거스름돈:  8500\n",
            "500원 동전의 개수:  17\n",
            "100원 동전의 개수:  0\n",
            "50원 동전의 개수:  0\n",
            "10원 동전의 개수:  0\n"
          ]
        }
      ]
    },
    {
      "cell_type": "markdown",
      "metadata": {
        "id": "OHJg8oaFD7IC"
      },
      "source": [
        "# 4번"
      ]
    },
    {
      "cell_type": "code",
      "metadata": {
        "id": "b4qzEQniD8pw"
      },
      "source": [
        "money = int(input(\"투입한 돈: \"))                   # 변수 money를 선언하고 정수형으로 받는다.\n",
        "price = int(input(\"물건 값: \"))                     # 변수 price를 선언하고 정수형으로 받는다.\n",
        "\n",
        "change = money - price                              # 거스름돈을 계산한다.\n",
        "coin500s = change // 500                            # 500으로 나누어서 몫이 500원짜리의 개수이다.\n",
        "change = change % 500                               # 500으로 나눈 나머지를 계산한다.\n",
        "coin100s = change // 100                            # 100으로 나누어서 몫이 100원짜리의 개수이다.\n",
        "\n",
        "print(\"500원 동전의 개수: \", coin500s)              # 거슬러줄 500원짜리의 개수를 출력한다.\n",
        "print(\"100원 동전의 개수: \", coin100s)              # 거슬러줄 100원짜리의 개수를 출력한다."
      ],
      "execution_count": null,
      "outputs": []
    }
  ]
}