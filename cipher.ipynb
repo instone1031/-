{
  "nbformat": 4,
  "nbformat_minor": 0,
  "metadata": {
    "colab": {
      "name": "cipher.ipynb",
      "provenance": [],
      "authorship_tag": "ABX9TyNyE3427iHJNxAkk9AvgNlk",
      "include_colab_link": true
    },
    "kernelspec": {
      "name": "python3",
      "display_name": "Python 3"
    },
    "language_info": {
      "name": "python"
    }
  },
  "cells": [
    {
      "cell_type": "markdown",
      "metadata": {
        "id": "view-in-github",
        "colab_type": "text"
      },
      "source": [
        "<a href=\"https://colab.research.google.com/github/instone1031/code/blob/master/cipher.ipynb\" target=\"_parent\"><img src=\"https://colab.research.google.com/assets/colab-badge.svg\" alt=\"Open In Colab\"/></a>"
      ]
    },
    {
      "cell_type": "code",
      "metadata": {
        "colab": {
          "base_uri": "https://localhost:8080/"
        },
        "id": "sjM8hh1EvbnH",
        "outputId": "78b57827-4498-4cdb-99a6-6c3a91182c62"
      },
      "source": [
        "key = 'abcdefghijklmnopqrstuwxyz'\n",
        "\n",
        "def encrypt(n, plaintext):\n",
        "  result = ''\n",
        "\n",
        "  for l in plaintext.lower():\n",
        "    try:\n",
        "      i = (key.index(l) + n) % 26\n",
        "      result += key[i]\n",
        "    except ValueError:\n",
        "      result += l\n",
        "  \n",
        "  return result.lower()\n",
        "\n",
        "def decrypt(n, ciphertext):\n",
        "  result = ''\n",
        "\n",
        "  for l in ciphertext:\n",
        "    try:\n",
        "      i = (key.index(l) - n) % 26\n",
        "      result += key[i]\n",
        "    except ValueError:\n",
        "      result += l\n",
        "\n",
        "  return result\n",
        "\n",
        "n = 3\n",
        "text = 'The language of truth is simple.'\n",
        "encrypted = encrypt(n, text)\n",
        "decrypted = decrypt(n, encrypted)\n",
        "\n",
        "print('평문: ', text)\n",
        "print('암호문: ', encrypted)\n",
        "print('복호문: ', decrypted)"
      ],
      "execution_count": 5,
      "outputs": [
        {
          "output_type": "stream",
          "text": [
            "평문:  The language of truth is simple.\n",
            "암호문:  xkh odqjydjh ri xuyxk lw wlpsoh.\n",
            "복호문:  the language of truth is simple.\n"
          ],
          "name": "stdout"
        }
      ]
    }
  ]
}