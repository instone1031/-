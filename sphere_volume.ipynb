{
  "nbformat": 4,
  "nbformat_minor": 0,
  "metadata": {
    "colab": {
      "name": "sphere volume.ipynb",
      "provenance": [],
      "toc_visible": true,
      "authorship_tag": "ABX9TyNExooWTlZge7dkZig2fXX1",
      "include_colab_link": true
    },
    "kernelspec": {
      "name": "python3",
      "display_name": "Python 3"
    },
    "language_info": {
      "name": "python"
    }
  },
  "cells": [
    {
      "cell_type": "markdown",
      "metadata": {
        "id": "view-in-github",
        "colab_type": "text"
      },
      "source": [
        "<a href=\"https://colab.research.google.com/github/instone1031/code/blob/master/sphere_volume.ipynb\" target=\"_parent\"><img src=\"https://colab.research.google.com/assets/colab-badge.svg\" alt=\"Open In Colab\"/></a>"
      ]
    },
    {
      "cell_type": "code",
      "metadata": {
        "colab": {
          "base_uri": "https://localhost:8080/"
        },
        "id": "jK4MTVDwtl_y",
        "outputId": "603fad24-f404-4334-fcdc-388ad42df902"
      },
      "source": [
        "##\n",
        "# 이 프로그램은 구의 부피를 계산한다.\n",
        "#\n",
        "\n",
        "# 사용자에게 구의 반지름을 입력하도록 한다. 구의 반지름을 문자열에서 실수로\n",
        "# 변환한다.\n",
        "\n",
        "r = float(input(\"반지름을 입력하시오: \"))\n",
        "\n",
        "# 구의 부피를 공식을 이용하여 계산한다.\n",
        "\n",
        "volume = (4.0/3.0) * 3.141592 * r**3\n",
        "\n",
        "# 구의 부피를 화면에 출력한다.\n",
        "\n",
        "print(\"구의 부피=\",volume)"
      ],
      "execution_count": 2,
      "outputs": [
        {
          "output_type": "stream",
          "text": [
            "반지름을 입력하시오: 6.9\n",
            "구의 부피= 1376.0549951040002\n"
          ],
          "name": "stdout"
        }
      ]
    }
  ]
}