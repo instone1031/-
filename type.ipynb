{
  "nbformat": 4,
  "nbformat_minor": 0,
  "metadata": {
    "colab": {
      "name": "type.ipynb",
      "provenance": [],
      "authorship_tag": "ABX9TyOXbjj1/mw0qUGrbQ1tcJ3Q",
      "include_colab_link": true
    },
    "kernelspec": {
      "name": "python3",
      "display_name": "Python 3"
    },
    "language_info": {
      "name": "python"
    }
  },
  "cells": [
    {
      "cell_type": "markdown",
      "metadata": {
        "id": "view-in-github",
        "colab_type": "text"
      },
      "source": [
        "<a href=\"https://colab.research.google.com/github/instone1031/code/blob/master/type.ipynb\" target=\"_parent\"><img src=\"https://colab.research.google.com/assets/colab-badge.svg\" alt=\"Open In Colab\"/></a>"
      ]
    },
    {
      "cell_type": "code",
      "metadata": {
        "colab": {
          "base_uri": "https://localhost:8080/",
          "height": 35
        },
        "id": "TW7fsi0mUeW5",
        "outputId": "91d35ed2-6c04-4a24-c93b-2af6ab3f3b0a"
      },
      "source": [
        "# hello world\n",
        "\n",
        "'''\n",
        "hello world\n",
        "hello world\n",
        "'''\n",
        "\n",
        "\"\"\"\n",
        "hello world\n",
        "hello world\n",
        "\"\"\""
      ],
      "execution_count": 2,
      "outputs": [
        {
          "output_type": "execute_result",
          "data": {
            "application/vnd.google.colaboratory.intrinsic+json": {
              "type": "string"
            },
            "text/plain": [
              "'\\nhello world\\nhello world\\n'"
            ]
          },
          "metadata": {
            "tags": []
          },
          "execution_count": 2
        }
      ]
    },
    {
      "cell_type": "markdown",
      "metadata": {
        "id": "gs8yaWnmU5PB"
      },
      "source": [
        "## 변수"
      ]
    },
    {
      "cell_type": "code",
      "metadata": {
        "colab": {
          "base_uri": "https://localhost:8080/"
        },
        "id": "ynEx7HSNU7AV",
        "outputId": "8e1f58ac-d82a-4652-fb2a-c1c065184c0d"
      },
      "source": [
        "a = 10\n",
        "b = 10.1\n",
        "c = -1\n",
        "d = True\n",
        "e = '10'\n",
        "f = 'lee'\n",
        "g = 'hojun'\n",
        "h = 10 + 2j\n",
        "i = 0b110\n",
        "j = 0o11\n",
        "k = 0xA1\n",
        "\n",
        "####\n",
        "\n",
        "l = [10, 20, 30]\n",
        "m = (10, 20, 30)\n",
        "n = {10, 20, 30}\n",
        "o = {'key' : 'value'}\n",
        "\n",
        "i, type(i), dir(i)"
      ],
      "execution_count": 5,
      "outputs": [
        {
          "output_type": "execute_result",
          "data": {
            "text/plain": [
              "(6,\n",
              " int,\n",
              " ['__abs__',\n",
              "  '__add__',\n",
              "  '__and__',\n",
              "  '__bool__',\n",
              "  '__ceil__',\n",
              "  '__class__',\n",
              "  '__delattr__',\n",
              "  '__dir__',\n",
              "  '__divmod__',\n",
              "  '__doc__',\n",
              "  '__eq__',\n",
              "  '__float__',\n",
              "  '__floor__',\n",
              "  '__floordiv__',\n",
              "  '__format__',\n",
              "  '__ge__',\n",
              "  '__getattribute__',\n",
              "  '__getnewargs__',\n",
              "  '__gt__',\n",
              "  '__hash__',\n",
              "  '__index__',\n",
              "  '__init__',\n",
              "  '__init_subclass__',\n",
              "  '__int__',\n",
              "  '__invert__',\n",
              "  '__le__',\n",
              "  '__lshift__',\n",
              "  '__lt__',\n",
              "  '__mod__',\n",
              "  '__mul__',\n",
              "  '__ne__',\n",
              "  '__neg__',\n",
              "  '__new__',\n",
              "  '__or__',\n",
              "  '__pos__',\n",
              "  '__pow__',\n",
              "  '__radd__',\n",
              "  '__rand__',\n",
              "  '__rdivmod__',\n",
              "  '__reduce__',\n",
              "  '__reduce_ex__',\n",
              "  '__repr__',\n",
              "  '__rfloordiv__',\n",
              "  '__rlshift__',\n",
              "  '__rmod__',\n",
              "  '__rmul__',\n",
              "  '__ror__',\n",
              "  '__round__',\n",
              "  '__rpow__',\n",
              "  '__rrshift__',\n",
              "  '__rshift__',\n",
              "  '__rsub__',\n",
              "  '__rtruediv__',\n",
              "  '__rxor__',\n",
              "  '__setattr__',\n",
              "  '__sizeof__',\n",
              "  '__str__',\n",
              "  '__sub__',\n",
              "  '__subclasshook__',\n",
              "  '__truediv__',\n",
              "  '__trunc__',\n",
              "  '__xor__',\n",
              "  'bit_length',\n",
              "  'conjugate',\n",
              "  'denominator',\n",
              "  'from_bytes',\n",
              "  'imag',\n",
              "  'numerator',\n",
              "  'real',\n",
              "  'to_bytes'])"
            ]
          },
          "metadata": {
            "tags": []
          },
          "execution_count": 5
        }
      ]
    }
  ]
}