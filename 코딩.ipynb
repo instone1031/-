{
  "nbformat": 4,
  "nbformat_minor": 0,
  "metadata": {
    "colab": {
      "name": "코딩.ipynb",
      "provenance": [],
      "authorship_tag": "ABX9TyPTvs6XueK8odyDcge8Tzth",
      "include_colab_link": true
    },
    "kernelspec": {
      "name": "python3",
      "display_name": "Python 3"
    },
    "language_info": {
      "name": "python"
    }
  },
  "cells": [
    {
      "cell_type": "markdown",
      "metadata": {
        "id": "view-in-github",
        "colab_type": "text"
      },
      "source": [
        "<a href=\"https://colab.research.google.com/github/instone1031/code/blob/master/%EC%BD%94%EB%94%A9.ipynb\" target=\"_parent\"><img src=\"https://colab.research.google.com/assets/colab-badge.svg\" alt=\"Open In Colab\"/></a>"
      ]
    },
    {
      "cell_type": "code",
      "metadata": {
        "colab": {
          "base_uri": "https://localhost:8080/"
        },
        "id": "IJutlhiu9ge-",
        "outputId": "3fa10577-ed99-4c9a-b0dc-bd42f2be6d51"
      },
      "source": [
        "import random\n",
        "\n",
        "numList = (1, 5, 7, 13, 50, 120, 300, 320, 400, 700)\n",
        "\n",
        "for k in range(10):\n",
        "  cntSum = 0\n",
        "  for i in range(10000):\n",
        "    rndNum = numList[random.randint(0, 9)]\n",
        "    for n in numList:\n",
        "      cntSum += 1\n",
        "      if n == rndNum:\n",
        "        break\n",
        "print(cntSum/10000)"
      ],
      "execution_count": 2,
      "outputs": [
        {
          "output_type": "stream",
          "text": [
            "5.454\n"
          ],
          "name": "stdout"
        }
      ]
    },
    {
      "cell_type": "code",
      "metadata": {
        "colab": {
          "base_uri": "https://localhost:8080/"
        },
        "id": "97ZEEnqZ_Doq",
        "outputId": "ed6df588-d123-47a6-acc6-bd394826bb3c"
      },
      "source": [
        "import random\n",
        "\n",
        "numList = (1, 5, 7, 13, 50, 120, 300, 320, 400, 700)\n",
        "\n",
        "for k in range(10):\n",
        "  cntSum = 0\n",
        "  for i in range(10000):\n",
        "    start = 0\n",
        "    end = len(numList) - 1\n",
        "    key = int((start + end) / 2)\n",
        "    V = random.randint(start, end)\n",
        "    while True:\n",
        "      cntSum += 1\n",
        "      if numList[key] == numList[V] or start == end:\n",
        "        break\n",
        "      elif numList[key] < numList[V]:\n",
        "        start = key + 1\n",
        "        key = int((start + end) / 2)\n",
        "      else:\n",
        "        end = key - 1\n",
        "        key = int((start + end) / 2)\n",
        "\n",
        "print(cntSum/10000)"
      ],
      "execution_count": 5,
      "outputs": [
        {
          "output_type": "stream",
          "text": [
            "2.8858\n"
          ],
          "name": "stdout"
        }
      ]
    },
    {
      "cell_type": "code",
      "metadata": {
        "colab": {
          "base_uri": "https://localhost:8080/"
        },
        "id": "WaL--hlcAiBx",
        "outputId": "c2b58fbd-38f5-4142-9303-374448606eeb"
      },
      "source": [
        "numList = []\n",
        "\n",
        "while True:\n",
        "  tmp = int(input(\"정수입력(0=종료, 검색하려면 -를 붙이세요:(\"))\n",
        "  if tmp == 0:\n",
        "    break\n",
        "  #저장\n",
        "  if tmp > 0:\n",
        "    if len(numList) == 0:\n",
        "      numList.append(tmp)\n",
        "    else:\n",
        "      for i, v in enumerate(numList):\n",
        "        if tmp == v:\n",
        "          print(\"중복값이 있습니다\")\n",
        "          continue\n",
        "        if tmp < v:\n",
        "          numList.insert(i, tmp)\n",
        "          break\n",
        "        if i == len(numList)-1:\n",
        "          numList.append(tmp)\n",
        "          break\n",
        "\n",
        "print(numList)\n",
        "print(\"총 {}개의 정수가 저장되었습니다.\".format(len(numList)))\n",
        "\n"
      ],
      "execution_count": 11,
      "outputs": [
        {
          "output_type": "stream",
          "text": [
            "정수입력(0=종료, 검색하려면 -를 붙이세요:(-3\n",
            "정수입력(0=종료, 검색하려면 -를 붙이세요:(0\n",
            "[]\n",
            "총 0개의 정수가 저장되었습니다.\n"
          ],
          "name": "stdout"
        }
      ]
    },
    {
      "cell_type": "code",
      "metadata": {
        "colab": {
          "base_uri": "https://localhost:8080/"
        },
        "id": "vFWndkPdC-hw",
        "outputId": "f53ddc4b-f43d-4438-ad40-548f4ef57b09"
      },
      "source": [
        "numList = []\n",
        "\n",
        "while True:\n",
        "  tmp = int(input(\"정수입력(0=종료, 검색하려면 -를 붙이세요:(\"))\n",
        "  if tmp == 0:\n",
        "    break\n",
        "  #저장\n",
        "  if tmp > 0:\n",
        "    if len(numList) == 0:\n",
        "      numList.append(tmp)\n",
        "      #검색\n",
        "else:\n",
        "      lookup = -tmp\n",
        "      start = 0\n",
        "      end = len(numList) - 1\n",
        "      key = int((start + end) / 2)\n",
        "      while True:\n",
        "        if start > end:\n",
        "          print(\"찾는 값이 없습니다.\")\n",
        "          break\n",
        "        if numList[key] == lookup:\n",
        "          print(\"{}(은)는 {}번째 위치에 있습니다.\"\n",
        "          .format(lookup, key))\n",
        "          break\n",
        "        elif numList[key] < lookup:\n",
        "          start = key + 1\n",
        "          key = int((start + end) / 2)\n",
        "        else:\n",
        "          end = key - 1\n",
        "          key = int((start + end) / 2)\n",
        "print(numList)\n",
        "\n"
      ],
      "execution_count": 14,
      "outputs": [
        {
          "output_type": "stream",
          "text": [
            "정수입력(0=종료, 검색하려면 -를 붙이세요:(3\n",
            "정수입력(0=종료, 검색하려면 -를 붙이세요:(-33\n",
            "정수입력(0=종료, 검색하려면 -를 붙이세요:(1\n",
            "정수입력(0=종료, 검색하려면 -를 붙이세요:(-4000\n",
            "정수입력(0=종료, 검색하려면 -를 붙이세요:(0\n",
            "[3]\n"
          ],
          "name": "stdout"
        }
      ]
    }
  ]
}