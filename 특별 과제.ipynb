{
  "nbformat": 4,
  "nbformat_minor": 0,
  "metadata": {
    "colab": {
      "name": "Untitled5.ipynb",
      "provenance": [],
      "authorship_tag": "ABX9TyPS0gmSMbwucUkGe+mSs37T",
      "include_colab_link": true
    },
    "kernelspec": {
      "name": "python3",
      "display_name": "Python 3"
    },
    "language_info": {
      "name": "python"
    }
  },
  "cells": [
    {
      "cell_type": "markdown",
      "metadata": {
        "id": "view-in-github",
        "colab_type": "text"
      },
      "source": [
        "<a href=\"https://colab.research.google.com/github/instone1031/code/blob/master/%ED%8A%B9%EB%B3%84%20%EA%B3%BC%EC%A0%9C.ipynb\" target=\"_parent\"><img src=\"https://colab.research.google.com/assets/colab-badge.svg\" alt=\"Open In Colab\"/></a>"
      ]
    },
    {
      "cell_type": "code",
      "metadata": {
        "colab": {
          "base_uri": "https://localhost:8080/"
        },
        "id": "l7jEIgOfaZlq",
        "outputId": "a9889cfe-5fc0-43ee-c699-ab85599342a5"
      },
      "source": [
        "score = int(input(\"당신의 점수는 어느정도입니까?: \"))\n",
        "\n",
        "if score >= 90:\n",
        "  print(\"당신의 학점은 A입니다.\")\n",
        "elif score >= 80:\n",
        "  print(\"당신의 학점은 B입니다.\")\n",
        "elif score >= 70:\n",
        "  print(\"당신의 학점은 C입니다.\")\n",
        "else:\n",
        "  print(\"당신의 학점은 D입니다.\")"
      ],
      "execution_count": 1,
      "outputs": [
        {
          "output_type": "stream",
          "name": "stdout",
          "text": [
            "당신의 점수는 어느정도입니까?: 70\n",
            "당신의 학점은 C입니다.\n"
          ]
        }
      ]
    }
  ]
}