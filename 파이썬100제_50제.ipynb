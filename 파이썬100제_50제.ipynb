{
  "nbformat": 4,
  "nbformat_minor": 0,
  "metadata": {
    "colab": {
      "name": "파이썬100제_50제.ipynb",
      "provenance": [],
      "toc_visible": true,
      "authorship_tag": "ABX9TyPtZhgueUl668eh3GS3AYYI",
      "include_colab_link": true
    },
    "kernelspec": {
      "name": "python3",
      "display_name": "Python 3"
    },
    "language_info": {
      "name": "python"
    }
  },
  "cells": [
    {
      "cell_type": "markdown",
      "metadata": {
        "id": "view-in-github",
        "colab_type": "text"
      },
      "source": [
        "<a href=\"https://colab.research.google.com/github/instone1031/code/blob/master/%ED%8C%8C%EC%9D%B4%EC%8D%AC100%EC%A0%9C_50%EC%A0%9C.ipynb\" target=\"_parent\"><img src=\"https://colab.research.google.com/assets/colab-badge.svg\" alt=\"Open In Colab\"/></a>"
      ]
    },
    {
      "cell_type": "markdown",
      "metadata": {
        "id": "EqQxQQ071x_o"
      },
      "source": [
        "#1번"
      ]
    },
    {
      "cell_type": "code",
      "metadata": {
        "colab": {
          "base_uri": "https://localhost:8080/"
        },
        "id": "b-M5nszE0CqO",
        "outputId": "2d57d959-8601-424b-ea6c-de40ace7b9d8"
      },
      "source": [
        "nums = [100, 200, 300, 400, 500]\n",
        "#nums = nums[:3]\n",
        "#print(dir(nums))\n",
        "nums.pop()\n",
        "nums.pop()\n",
        "nums"
      ],
      "execution_count": 3,
      "outputs": [
        {
          "output_type": "execute_result",
          "data": {
            "text/plain": [
              "[100, 200, 300]"
            ]
          },
          "metadata": {
            "tags": []
          },
          "execution_count": 3
        }
      ]
    },
    {
      "cell_type": "markdown",
      "metadata": {
        "id": "9K4df3oP1wpK"
      },
      "source": [
        "#2번"
      ]
    },
    {
      "cell_type": "code",
      "metadata": {
        "colab": {
          "base_uri": "https://localhost:8080/"
        },
        "id": "iImJyWkA1DGt",
        "outputId": "d8478c53-1045-4c0b-f0d6-5ee437d7df64"
      },
      "source": [
        "I = [200, 100, 300]\n",
        "I.insert(2, 10000)\n",
        "print(I)\n"
      ],
      "execution_count": 4,
      "outputs": [
        {
          "output_type": "stream",
          "text": [
            "[200, 100, 10000, 300]\n"
          ],
          "name": "stdout"
        }
      ]
    },
    {
      "cell_type": "markdown",
      "metadata": {
        "id": "HKEmxc4J2FpD"
      },
      "source": [
        "#3번"
      ]
    },
    {
      "cell_type": "code",
      "metadata": {
        "colab": {
          "base_uri": "https://localhost:8080/"
        },
        "id": "J7zaHWxh2H3b",
        "outputId": "ec5ed9d3-6c22-4ff6-ee17-5d025bd10da7"
      },
      "source": [
        "I = [100, 200, 300]\n",
        "print(type(I))\n",
        "print(dir(I))"
      ],
      "execution_count": 5,
      "outputs": [
        {
          "output_type": "stream",
          "text": [
            "<class 'list'>\n",
            "['__add__', '__class__', '__contains__', '__delattr__', '__delitem__', '__dir__', '__doc__', '__eq__', '__format__', '__ge__', '__getattribute__', '__getitem__', '__gt__', '__hash__', '__iadd__', '__imul__', '__init__', '__init_subclass__', '__iter__', '__le__', '__len__', '__lt__', '__mul__', '__ne__', '__new__', '__reduce__', '__reduce_ex__', '__repr__', '__reversed__', '__rmul__', '__setattr__', '__setitem__', '__sizeof__', '__str__', '__subclasshook__', 'append', 'clear', 'copy', 'count', 'extend', 'index', 'insert', 'pop', 'remove', 'reverse', 'sort']\n"
          ],
          "name": "stdout"
        }
      ]
    },
    {
      "cell_type": "markdown",
      "metadata": {
        "id": "Ct1oqrcO2YAn"
      },
      "source": [
        "#4번"
      ]
    },
    {
      "cell_type": "code",
      "metadata": {
        "colab": {
          "base_uri": "https://localhost:8080/"
        },
        "id": "Cidq-AIu2Zf1",
        "outputId": "7f857c52-690d-418a-f21d-d1cc768965b4"
      },
      "source": [
        "a = '''hello world'''\n",
        "print(type(a))"
      ],
      "execution_count": 6,
      "outputs": [
        {
          "output_type": "stream",
          "text": [
            "<class 'str'>\n"
          ],
          "name": "stdout"
        }
      ]
    },
    {
      "cell_type": "markdown",
      "metadata": {
        "id": "23LKlU1n2vhq"
      },
      "source": [
        "#5번"
      ]
    },
    {
      "cell_type": "code",
      "metadata": {
        "colab": {
          "base_uri": "https://localhost:8080/"
        },
        "id": "hcFfPeQf2wwH",
        "outputId": "8f880831-b9b9-4865-9df5-8f53165021ef"
      },
      "source": [
        "a =10\n",
        "b = 2\n",
        "for i in range(1, 5, 2):\n",
        "  a += i\n",
        "\n",
        "print(a + b)"
      ],
      "execution_count": 7,
      "outputs": [
        {
          "output_type": "stream",
          "text": [
            "16\n"
          ],
          "name": "stdout"
        }
      ]
    },
    {
      "cell_type": "markdown",
      "metadata": {
        "id": "WjeR-tAy3Cj4"
      },
      "source": [
        "#6번"
      ]
    },
    {
      "cell_type": "code",
      "metadata": {
        "colab": {
          "base_uri": "https://localhost:8080/"
        },
        "id": "DfNY2TAI3GHs",
        "outputId": "0a80b914-f3fc-44c4-f18c-bc06fc258746"
      },
      "source": [
        "print(bool(\" \"))\n",
        "print(bool(\"\"))\n",
        "print(bool([\"\", \"\"]))\n",
        "print(bool([]))\n",
        "print(bool(None))"
      ],
      "execution_count": 9,
      "outputs": [
        {
          "output_type": "stream",
          "text": [
            "True\n",
            "False\n",
            "True\n",
            "False\n",
            "False\n"
          ],
          "name": "stdout"
        }
      ]
    },
    {
      "cell_type": "markdown",
      "metadata": {
        "id": "gadV1QIO3yZL"
      },
      "source": [
        "#7번"
      ]
    },
    {
      "cell_type": "code",
      "metadata": {
        "colab": {
          "base_uri": "https://localhost:8080/"
        },
        "id": "qw9LuCE130Bj",
        "outputId": "2dc16013-2f1a-40a1-df11-e1775731a6b8"
      },
      "source": [
        "한글 = 100\n",
        "한글"
      ],
      "execution_count": 10,
      "outputs": [
        {
          "output_type": "execute_result",
          "data": {
            "text/plain": [
              "100"
            ]
          },
          "metadata": {
            "tags": []
          },
          "execution_count": 10
        }
      ]
    },
    {
      "cell_type": "code",
      "metadata": {
        "id": "xaEDpOEF4K1M"
      },
      "source": [
        "beautiful_is_better_than_ugly = 100\n",
        "beautifulIsBetterThanUgly = 100"
      ],
      "execution_count": 11,
      "outputs": []
    },
    {
      "cell_type": "markdown",
      "metadata": {
        "id": "0NBAjhPS4hNO"
      },
      "source": [
        "#8번"
      ]
    },
    {
      "cell_type": "code",
      "metadata": {
        "colab": {
          "base_uri": "https://localhost:8080/"
        },
        "id": "6GBRtvOg4iRn",
        "outputId": "0430413d-45f8-48f9-91a7-7aad7d174824"
      },
      "source": [
        "d = {'height':180,'weight':78,'weight':84,'temparture':36,'eyesight':1}\n",
        "print(d['weight'])"
      ],
      "execution_count": 12,
      "outputs": [
        {
          "output_type": "stream",
          "text": [
            "84\n"
          ],
          "name": "stdout"
        }
      ]
    },
    {
      "cell_type": "code",
      "metadata": {
        "colab": {
          "base_uri": "https://localhost:8080/"
        },
        "id": "eIhxmgl75Ha4",
        "outputId": "f95c4b8b-9442-48c7-f2bb-d6d869914c39"
      },
      "source": [
        "print(d)"
      ],
      "execution_count": 13,
      "outputs": [
        {
          "output_type": "stream",
          "text": [
            "{'height': 180, 'weight': 84, 'temparture': 36, 'eyesight': 1}\n"
          ],
          "name": "stdout"
        }
      ]
    },
    {
      "cell_type": "code",
      "metadata": {
        "colab": {
          "base_uri": "https://localhost:8080/"
        },
        "id": "eEgYtXiT5OXx",
        "outputId": "02d2d53e-ddf4-4572-f2ba-6e62c09d593c"
      },
      "source": [
        "d"
      ],
      "execution_count": 14,
      "outputs": [
        {
          "output_type": "execute_result",
          "data": {
            "text/plain": [
              "{'eyesight': 1, 'height': 180, 'temparture': 36, 'weight': 84}"
            ]
          },
          "metadata": {
            "tags": []
          },
          "execution_count": 14
        }
      ]
    },
    {
      "cell_type": "code",
      "metadata": {
        "colab": {
          "base_uri": "https://localhost:8080/"
        },
        "id": "WntOjabB5SwX",
        "outputId": "7f1d195d-f36c-4ddb-f078-daf3aafbe62e"
      },
      "source": [
        "!python -V"
      ],
      "execution_count": 15,
      "outputs": [
        {
          "output_type": "stream",
          "text": [
            "Python 3.7.10\n"
          ],
          "name": "stdout"
        }
      ]
    },
    {
      "cell_type": "code",
      "metadata": {
        "colab": {
          "base_uri": "https://localhost:8080/"
        },
        "id": "XB6v6YZ35a6x",
        "outputId": "a5d77b4d-d701-449f-97af-19505633be0d"
      },
      "source": [
        "d['weight'] = 1000\n",
        "print(d)"
      ],
      "execution_count": 16,
      "outputs": [
        {
          "output_type": "stream",
          "text": [
            "{'height': 180, 'weight': 1000, 'temparture': 36, 'eyesight': 1}\n"
          ],
          "name": "stdout"
        }
      ]
    },
    {
      "cell_type": "code",
      "metadata": {
        "colab": {
          "base_uri": "https://localhost:8080/"
        },
        "id": "AGzQp98N5jZV",
        "outputId": "399c2f74-debc-465c-abf8-031d92c4b0b9"
      },
      "source": [
        "d['aa'] = 1000\n",
        "print(d)"
      ],
      "execution_count": 18,
      "outputs": [
        {
          "output_type": "stream",
          "text": [
            "{'height': 180, 'weight': 1000, 'temparture': 36, 'eyesight': 1, 'bb': 1000, 'aa': 1000}\n"
          ],
          "name": "stdout"
        }
      ]
    },
    {
      "cell_type": "code",
      "metadata": {
        "colab": {
          "base_uri": "https://localhost:8080/"
        },
        "id": "RYl5Z_N55nkr",
        "outputId": "664dc551-4abe-4e1b-9f93-6d7f83fdc3ea"
      },
      "source": [
        "d['bb'] = 1000\n",
        "print(d)"
      ],
      "execution_count": 17,
      "outputs": [
        {
          "output_type": "stream",
          "text": [
            "{'height': 180, 'weight': 1000, 'temparture': 36, 'eyesight': 1, 'bb': 1000}\n"
          ],
          "name": "stdout"
        }
      ]
    },
    {
      "cell_type": "markdown",
      "metadata": {
        "id": "jRRVcTvL5syH"
      },
      "source": [
        "#9번"
      ]
    },
    {
      "cell_type": "code",
      "metadata": {
        "colab": {
          "base_uri": "https://localhost:8080/"
        },
        "id": "j39le3N65ubM",
        "outputId": "1a47e683-488b-481e-d812-4d07d212cfe0"
      },
      "source": [
        "year = '2019'\n",
        "month = '04'\n",
        "day = '26'\n",
        "hour = '11'\n",
        "minute = '34'\n",
        "second = '27'\n",
        "\n",
        "print(year, month, day, )\n",
        "print(hour, minute, second, )"
      ],
      "execution_count": 19,
      "outputs": [
        {
          "output_type": "stream",
          "text": [
            "2019 04 26\n",
            "11 34 27\n"
          ],
          "name": "stdout"
        }
      ]
    },
    {
      "cell_type": "code",
      "metadata": {
        "colab": {
          "base_uri": "https://localhost:8080/"
        },
        "id": "7oj9GhYo6PLU",
        "outputId": "53953b48-5097-465e-ee35-0478d4489880"
      },
      "source": [
        "print(year, month, day, end=' ', sep='/')\n",
        "print(hour, minute, second, sep=':')"
      ],
      "execution_count": 21,
      "outputs": [
        {
          "output_type": "stream",
          "text": [
            "2019/04/26 11:34:27\n"
          ],
          "name": "stdout"
        }
      ]
    },
    {
      "cell_type": "markdown",
      "metadata": {
        "id": "mZLSA5Lv6i9H"
      },
      "source": [
        "#10번"
      ]
    },
    {
      "cell_type": "code",
      "metadata": {
        "colab": {
          "base_uri": "https://localhost:8080/"
        },
        "id": "TvdXHoVM6h4y",
        "outputId": "155e8a73-b123-4a9d-9a0b-594d31a2d5e2"
      },
      "source": [
        "'''\n",
        "4     1\n",
        "3     3\n",
        "2     5\n",
        "1     7\n",
        "0     9\n",
        "n-i   2i-1\n",
        "'''\n",
        "\n",
        "n = 5\n",
        "for i in range(1, n + 1):\n",
        "  #print(n-i, 2*i-1)\n",
        "  print((' ' * (n-i)) + ('*' * (2*i-1)))"
      ],
      "execution_count": 23,
      "outputs": [
        {
          "output_type": "stream",
          "text": [
            "    *\n",
            "   ***\n",
            "  *****\n",
            " *******\n",
            "*********\n"
          ],
          "name": "stdout"
        }
      ]
    }
  ]
}